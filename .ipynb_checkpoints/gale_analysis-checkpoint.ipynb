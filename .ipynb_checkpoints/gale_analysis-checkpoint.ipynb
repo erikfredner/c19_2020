{
 "cells": [
  {
   "cell_type": "markdown",
   "metadata": {},
   "source": [
    "# Analysis of citizenship in the Gale corpus\n",
    "\n",
    "0. create list of target terms\n",
    "1. identify which texts contain target terms (for representation over time)\n",
    "2. extract kwics\n",
    "3. extract collocates\n",
    "4. create vectors"
   ]
  },
  {
   "cell_type": "code",
   "execution_count": 1,
   "metadata": {},
   "outputs": [],
   "source": [
    "terms = ['citizen', 'citizenship', 'resident', 'alien', 'community']"
   ]
  },
  {
   "cell_type": "markdown",
   "metadata": {},
   "source": [
    "Which texts contain target terms? Read in csv with use_columns option for target terms"
   ]
  },
  {
   "cell_type": "code",
   "execution_count": 2,
   "metadata": {},
   "outputs": [],
   "source": [
    "dtm = '/Users/e/Desktop/gale_dtm.csv'"
   ]
  },
  {
   "cell_type": "code",
   "execution_count": 3,
   "metadata": {},
   "outputs": [],
   "source": [
    "import csv\n",
    "\n",
    "with open(dtm) as f:\n",
    "    reader = csv.reader(f)\n",
    "    first_line = next(reader)"
   ]
  },
  {
   "cell_type": "code",
   "execution_count": 4,
   "metadata": {},
   "outputs": [],
   "source": [
    "import pandas as pd"
   ]
  },
  {
   "cell_type": "code",
   "execution_count": 5,
   "metadata": {},
   "outputs": [],
   "source": [
    "terms.append('_fn')"
   ]
  },
  {
   "cell_type": "code",
   "execution_count": 6,
   "metadata": {},
   "outputs": [],
   "source": [
    "df = pd.read_csv(dtm, usecols = terms)"
   ]
  },
  {
   "cell_type": "code",
   "execution_count": 7,
   "metadata": {},
   "outputs": [],
   "source": [
    "df.set_index('_fn', inplace=True)"
   ]
  },
  {
   "cell_type": "code",
   "execution_count": 8,
   "metadata": {},
   "outputs": [
    {
     "data": {
      "text/html": [
       "<div>\n",
       "<style scoped>\n",
       "    .dataframe tbody tr th:only-of-type {\n",
       "        vertical-align: middle;\n",
       "    }\n",
       "\n",
       "    .dataframe tbody tr th {\n",
       "        vertical-align: top;\n",
       "    }\n",
       "\n",
       "    .dataframe thead th {\n",
       "        text-align: right;\n",
       "    }\n",
       "</style>\n",
       "<table border=\"1\" class=\"dataframe\">\n",
       "  <thead>\n",
       "    <tr style=\"text-align: right;\">\n",
       "      <th></th>\n",
       "      <th>resident</th>\n",
       "      <th>community</th>\n",
       "      <th>citizen</th>\n",
       "      <th>alien</th>\n",
       "      <th>citizenship</th>\n",
       "    </tr>\n",
       "    <tr>\n",
       "      <th>_fn</th>\n",
       "      <th></th>\n",
       "      <th></th>\n",
       "      <th></th>\n",
       "      <th></th>\n",
       "      <th></th>\n",
       "    </tr>\n",
       "  </thead>\n",
       "  <tbody>\n",
       "    <tr>\n",
       "      <th>AMFCF0002-C00000-B0538000.txt</th>\n",
       "      <td>1.0</td>\n",
       "      <td>NaN</td>\n",
       "      <td>NaN</td>\n",
       "      <td>NaN</td>\n",
       "      <td>NaN</td>\n",
       "    </tr>\n",
       "    <tr>\n",
       "      <th>AMFCF0002-C00000-B1047100.txt</th>\n",
       "      <td>1.0</td>\n",
       "      <td>1.0</td>\n",
       "      <td>2.0</td>\n",
       "      <td>NaN</td>\n",
       "      <td>NaN</td>\n",
       "    </tr>\n",
       "    <tr>\n",
       "      <th>AMFCF0002-C00000-B1114600.txt</th>\n",
       "      <td>NaN</td>\n",
       "      <td>2.0</td>\n",
       "      <td>1.0</td>\n",
       "      <td>2.0</td>\n",
       "      <td>NaN</td>\n",
       "    </tr>\n",
       "    <tr>\n",
       "      <th>AMFCF0002-C00000-B1161700.txt</th>\n",
       "      <td>NaN</td>\n",
       "      <td>1.0</td>\n",
       "      <td>11.0</td>\n",
       "      <td>NaN</td>\n",
       "      <td>1.0</td>\n",
       "    </tr>\n",
       "    <tr>\n",
       "      <th>AMFCF0002-C00000-B1032000.txt</th>\n",
       "      <td>NaN</td>\n",
       "      <td>6.0</td>\n",
       "      <td>NaN</td>\n",
       "      <td>NaN</td>\n",
       "      <td>NaN</td>\n",
       "    </tr>\n",
       "  </tbody>\n",
       "</table>\n",
       "</div>"
      ],
      "text/plain": [
       "                               resident  community  citizen  alien  \\\n",
       "_fn                                                                  \n",
       "AMFCF0002-C00000-B0538000.txt       1.0        NaN      NaN    NaN   \n",
       "AMFCF0002-C00000-B1047100.txt       1.0        1.0      2.0    NaN   \n",
       "AMFCF0002-C00000-B1114600.txt       NaN        2.0      1.0    2.0   \n",
       "AMFCF0002-C00000-B1161700.txt       NaN        1.0     11.0    NaN   \n",
       "AMFCF0002-C00000-B1032000.txt       NaN        6.0      NaN    NaN   \n",
       "\n",
       "                               citizenship  \n",
       "_fn                                         \n",
       "AMFCF0002-C00000-B0538000.txt          NaN  \n",
       "AMFCF0002-C00000-B1047100.txt          NaN  \n",
       "AMFCF0002-C00000-B1114600.txt          NaN  \n",
       "AMFCF0002-C00000-B1161700.txt          1.0  \n",
       "AMFCF0002-C00000-B1032000.txt          NaN  "
      ]
     },
     "execution_count": 8,
     "metadata": {},
     "output_type": "execute_result"
    }
   ],
   "source": [
    "df.head()"
   ]
  },
  {
   "cell_type": "markdown",
   "metadata": {},
   "source": [
    "Link up with metadata:"
   ]
  },
  {
   "cell_type": "code",
   "execution_count": 9,
   "metadata": {},
   "outputs": [],
   "source": [
    "meta = '/Users/e/Desktop/gale_meta_current.csv'"
   ]
  },
  {
   "cell_type": "code",
   "execution_count": 10,
   "metadata": {},
   "outputs": [],
   "source": [
    "meta = pd.read_csv(meta)"
   ]
  },
  {
   "cell_type": "markdown",
   "metadata": {},
   "source": [
    "Let's just check out `citizen` to start."
   ]
  },
  {
   "cell_type": "code",
   "execution_count": 11,
   "metadata": {},
   "outputs": [
    {
     "data": {
      "text/plain": [
       "7072"
      ]
     },
     "execution_count": 11,
     "metadata": {},
     "output_type": "execute_result"
    }
   ],
   "source": [
    "len(df[df['citizen'].notna()])"
   ]
  },
  {
   "cell_type": "markdown",
   "metadata": {},
   "source": [
    "`citizen` shows up in 38.8% of texts. More than I was expecting. Let's add metadata."
   ]
  },
  {
   "cell_type": "code",
   "execution_count": 12,
   "metadata": {},
   "outputs": [],
   "source": [
    "citizens = pd.DataFrame(df['citizen'][df['citizen'].notna()]).reset_index()"
   ]
  },
  {
   "cell_type": "code",
   "execution_count": 13,
   "metadata": {},
   "outputs": [
    {
     "data": {
      "text/html": [
       "<div>\n",
       "<style scoped>\n",
       "    .dataframe tbody tr th:only-of-type {\n",
       "        vertical-align: middle;\n",
       "    }\n",
       "\n",
       "    .dataframe tbody tr th {\n",
       "        vertical-align: top;\n",
       "    }\n",
       "\n",
       "    .dataframe thead th {\n",
       "        text-align: right;\n",
       "    }\n",
       "</style>\n",
       "<table border=\"1\" class=\"dataframe\">\n",
       "  <thead>\n",
       "    <tr style=\"text-align: right;\">\n",
       "      <th></th>\n",
       "      <th>_fn</th>\n",
       "      <th>citizen</th>\n",
       "    </tr>\n",
       "  </thead>\n",
       "  <tbody>\n",
       "    <tr>\n",
       "      <th>0</th>\n",
       "      <td>AMFCF0002-C00000-B1047100.txt</td>\n",
       "      <td>2.0</td>\n",
       "    </tr>\n",
       "    <tr>\n",
       "      <th>1</th>\n",
       "      <td>AMFCF0002-C00000-B1114600.txt</td>\n",
       "      <td>1.0</td>\n",
       "    </tr>\n",
       "    <tr>\n",
       "      <th>2</th>\n",
       "      <td>AMFCF0002-C00000-B1161700.txt</td>\n",
       "      <td>11.0</td>\n",
       "    </tr>\n",
       "    <tr>\n",
       "      <th>3</th>\n",
       "      <td>AMFCF0002-C00000-B0566600.txt</td>\n",
       "      <td>1.0</td>\n",
       "    </tr>\n",
       "    <tr>\n",
       "      <th>4</th>\n",
       "      <td>AMFCF0002-C00000-B0528000.txt</td>\n",
       "      <td>1.0</td>\n",
       "    </tr>\n",
       "  </tbody>\n",
       "</table>\n",
       "</div>"
      ],
      "text/plain": [
       "                             _fn  citizen\n",
       "0  AMFCF0002-C00000-B1047100.txt      2.0\n",
       "1  AMFCF0002-C00000-B1114600.txt      1.0\n",
       "2  AMFCF0002-C00000-B1161700.txt     11.0\n",
       "3  AMFCF0002-C00000-B0566600.txt      1.0\n",
       "4  AMFCF0002-C00000-B0528000.txt      1.0"
      ]
     },
     "execution_count": 13,
     "metadata": {},
     "output_type": "execute_result"
    }
   ],
   "source": [
    "citizens.head()"
   ]
  },
  {
   "cell_type": "code",
   "execution_count": 14,
   "metadata": {},
   "outputs": [
    {
     "data": {
      "text/plain": [
       "Index(['filename', 'year', 'author', 'author_birth_date', 'author_death_date',\n",
       "       'full_title', 'publication_place_city', 'total_pages', 'ocr_accuracy',\n",
       "       'valid_words', 'decade'],\n",
       "      dtype='object')"
      ]
     },
     "execution_count": 14,
     "metadata": {},
     "output_type": "execute_result"
    }
   ],
   "source": [
    "meta.columns"
   ]
  },
  {
   "cell_type": "code",
   "execution_count": 15,
   "metadata": {},
   "outputs": [],
   "source": [
    "citizens_meta = pd.merge(citizens, meta, left_on='_fn', right_on='filename')"
   ]
  },
  {
   "cell_type": "markdown",
   "metadata": {},
   "source": [
    "Where are they distributed? (And who mentions them?)"
   ]
  },
  {
   "cell_type": "code",
   "execution_count": 16,
   "metadata": {},
   "outputs": [
    {
     "name": "stderr",
     "output_type": "stream",
     "text": [
      "/usr/local/anaconda3/lib/python3.7/site-packages/pandas/plotting/_matplotlib/core.py:572: UserWarning: The handle <matplotlib.lines.Line2D object at 0x1215b7410> has a label of '_fn' which cannot be automatically added to the legend.\n",
      "  ax.legend(handles, labels, loc=\"best\", title=title)\n"
     ]
    },
    {
     "data": {
      "text/plain": [
       "<matplotlib.axes._subplots.AxesSubplot at 0x1205cd710>"
      ]
     },
     "execution_count": 16,
     "metadata": {},
     "output_type": "execute_result"
    },
    {
     "data": {
      "image/png": "[encoded data removed]",
      "text/plain": [
       "<Figure size 432x288 with 1 Axes>"
      ]
     },
     "metadata": {
      "needs_background": "light"
     },
     "output_type": "display_data"
    }
   ],
   "source": [
    "citizens_meta[['_fn','year']].groupby('year').count().plot()"
   ]
  },
  {
   "cell_type": "markdown",
   "metadata": {},
   "source": [
    "So obviously the biggest effect here is going to be corpus size, which this roughly tracks. Need to scale these mentions by words per year."
   ]
  },
  {
   "cell_type": "code",
   "execution_count": 17,
   "metadata": {},
   "outputs": [
    {
     "data": {
      "text/plain": [
       "Index(['filename', 'year', 'author', 'author_birth_date', 'author_death_date',\n",
       "       'full_title', 'publication_place_city', 'total_pages', 'ocr_accuracy',\n",
       "       'valid_words', 'decade'],\n",
       "      dtype='object')"
      ]
     },
     "execution_count": 17,
     "metadata": {},
     "output_type": "execute_result"
    }
   ],
   "source": [
    "meta.columns"
   ]
  },
  {
   "cell_type": "code",
   "execution_count": 18,
   "metadata": {},
   "outputs": [],
   "source": [
    "words_per_year = meta[['year','valid_words']].groupby('year').sum()"
   ]
  },
  {
   "cell_type": "code",
   "execution_count": 19,
   "metadata": {},
   "outputs": [],
   "source": [
    "citizens_per_year = citizens_meta[['_fn','year']].groupby('year').count()"
   ]
  },
  {
   "cell_type": "code",
   "execution_count": 20,
   "metadata": {},
   "outputs": [
    {
     "data": {
      "text/html": [
       "<div>\n",
       "<style scoped>\n",
       "    .dataframe tbody tr th:only-of-type {\n",
       "        vertical-align: middle;\n",
       "    }\n",
       "\n",
       "    .dataframe tbody tr th {\n",
       "        vertical-align: top;\n",
       "    }\n",
       "\n",
       "    .dataframe thead th {\n",
       "        text-align: right;\n",
       "    }\n",
       "</style>\n",
       "<table border=\"1\" class=\"dataframe\">\n",
       "  <thead>\n",
       "    <tr style=\"text-align: right;\">\n",
       "      <th></th>\n",
       "      <th>valid_words</th>\n",
       "    </tr>\n",
       "    <tr>\n",
       "      <th>year</th>\n",
       "      <th></th>\n",
       "    </tr>\n",
       "  </thead>\n",
       "  <tbody>\n",
       "    <tr>\n",
       "      <th>1787</th>\n",
       "      <td>1</td>\n",
       "    </tr>\n",
       "    <tr>\n",
       "      <th>1792</th>\n",
       "      <td>3</td>\n",
       "    </tr>\n",
       "    <tr>\n",
       "      <th>1793</th>\n",
       "      <td>3</td>\n",
       "    </tr>\n",
       "    <tr>\n",
       "      <th>1795</th>\n",
       "      <td>2</td>\n",
       "    </tr>\n",
       "    <tr>\n",
       "      <th>1797</th>\n",
       "      <td>3</td>\n",
       "    </tr>\n",
       "    <tr>\n",
       "      <th>...</th>\n",
       "      <td>...</td>\n",
       "    </tr>\n",
       "    <tr>\n",
       "      <th>1916</th>\n",
       "      <td>95</td>\n",
       "    </tr>\n",
       "    <tr>\n",
       "      <th>1917</th>\n",
       "      <td>104</td>\n",
       "    </tr>\n",
       "    <tr>\n",
       "      <th>1918</th>\n",
       "      <td>100</td>\n",
       "    </tr>\n",
       "    <tr>\n",
       "      <th>1919</th>\n",
       "      <td>124</td>\n",
       "    </tr>\n",
       "    <tr>\n",
       "      <th>1920</th>\n",
       "      <td>128</td>\n",
       "    </tr>\n",
       "  </tbody>\n",
       "</table>\n",
       "<p>122 rows × 1 columns</p>\n",
       "</div>"
      ],
      "text/plain": [
       "      valid_words\n",
       "year             \n",
       "1787            1\n",
       "1792            3\n",
       "1793            3\n",
       "1795            2\n",
       "1797            3\n",
       "...           ...\n",
       "1916           95\n",
       "1917          104\n",
       "1918          100\n",
       "1919          124\n",
       "1920          128\n",
       "\n",
       "[122 rows x 1 columns]"
      ]
     },
     "execution_count": 20,
     "metadata": {},
     "output_type": "execute_result"
    }
   ],
   "source": [
    "citizens_per_year.rename({'_fn':'valid_words'}, axis = 1)"
   ]
  },
  {
   "cell_type": "code",
   "execution_count": 21,
   "metadata": {},
   "outputs": [
    {
     "data": {
      "text/plain": [
       "<matplotlib.axes._subplots.AxesSubplot at 0x1216c2750>"
      ]
     },
     "execution_count": 21,
     "metadata": {},
     "output_type": "execute_result"
    },
    {
     "data": {
      "image/png": "[encoded data removed]",
      "text/plain": [
       "<Figure size 432x288 with 1 Axes>"
      ]
     },
     "metadata": {
      "needs_background": "light"
     },
     "output_type": "display_data"
    }
   ],
   "source": [
    "(citizens_per_year.rename({'_fn':'valid_words'}, axis = 1) / words_per_year).plot()"
   ]
  },
  {
   "cell_type": "code",
   "execution_count": 22,
   "metadata": {},
   "outputs": [],
   "source": [
    "citizens_rate = (citizens_per_year.rename({'_fn':'valid_words'}, axis = 1) / words_per_year)"
   ]
  },
  {
   "cell_type": "code",
   "execution_count": 23,
   "metadata": {},
   "outputs": [
    {
     "ename": "NameError",
     "evalue": "name 'citizens_decade' is not defined",
     "output_type": "error",
     "traceback": [
      "\u001b[0;31m---------------------------------------------------------------------------\u001b[0m",
      "\u001b[0;31mNameError\u001b[0m                                 Traceback (most recent call last)",
      "\u001b[0;32m<ipython-input-23-cea34e9d3653>\u001b[0m in \u001b[0;36m<module>\u001b[0;34m\u001b[0m\n\u001b[0;32m----> 1\u001b[0;31m \u001b[0mcitizens_decade\u001b[0m\u001b[0;34m\u001b[0m\u001b[0;34m\u001b[0m\u001b[0m\n\u001b[0m",
      "\u001b[0;31mNameError\u001b[0m: name 'citizens_decade' is not defined"
     ]
    }
   ],
   "source": [
    "citizens_decade"
   ]
  },
  {
   "cell_type": "code",
   "execution_count": null,
   "metadata": {},
   "outputs": [],
   "source": [
    "citizens_rate[citizens_rate.index >= 1832].plot()"
   ]
  },
  {
   "cell_type": "markdown",
   "metadata": {},
   "source": [
    "Relatively consistent and low rate of mention. How many total mentions?"
   ]
  },
  {
   "cell_type": "code",
   "execution_count": null,
   "metadata": {},
   "outputs": [],
   "source": [
    "citizens.describe()"
   ]
  },
  {
   "cell_type": "markdown",
   "metadata": {},
   "source": [
    "...one book has \"citizen\" in it 386 times?"
   ]
  },
  {
   "cell_type": "code",
   "execution_count": null,
   "metadata": {},
   "outputs": [],
   "source": [
    "citizens.columns"
   ]
  },
  {
   "cell_type": "code",
   "execution_count": null,
   "metadata": {},
   "outputs": [],
   "source": [
    "citizens.sort_values(by = 'citizen',ascending = False)"
   ]
  },
  {
   "cell_type": "code",
   "execution_count": null,
   "metadata": {},
   "outputs": [],
   "source": [
    "list(citizens.sort_values(by = 'citizen',ascending = False)['_fn'][:10])"
   ]
  },
  {
   "cell_type": "code",
   "execution_count": null,
   "metadata": {},
   "outputs": [],
   "source": [
    "meta[meta['filename'].isin(citizens.sort_values(by = 'citizen',ascending = False)['_fn'][:10])]"
   ]
  },
  {
   "cell_type": "markdown",
   "metadata": {},
   "source": [
    "One of these is by a Winston Churchill. (Not that one.)\n",
    "\n",
    "Bestselling American novel of 1904:\n",
    "https://en.wikipedia.org/wiki/The_Crossing_(Churchill_novel)\n",
    "\n",
    "About westward expansion (of course) into Kentucky (why not?)"
   ]
  },
  {
   "cell_type": "code",
   "execution_count": null,
   "metadata": {},
   "outputs": [],
   "source": [
    "wc = 'AMFCF0002-C00000-B1113100.txt'"
   ]
  },
  {
   "cell_type": "code",
   "execution_count": null,
   "metadata": {},
   "outputs": [],
   "source": [
    "import os\n",
    "with open(os.path.join('/Users/e/Desktop/gale_meta_validation/txt', wc)) as f:\n",
    "#     print(f.read())"
   ]
  },
  {
   "cell_type": "markdown",
   "metadata": {},
   "source": [
    "Total number of examples in the corpus:"
   ]
  },
  {
   "cell_type": "code",
   "execution_count": null,
   "metadata": {},
   "outputs": [],
   "source": [
    "citizens['citizen'].sum()"
   ]
  },
  {
   "cell_type": "markdown",
   "metadata": {},
   "source": [
    "Which texts contain the examples?"
   ]
  },
  {
   "cell_type": "code",
   "execution_count": null,
   "metadata": {},
   "outputs": [],
   "source": [
    "citizen_files = citizens['_fn']"
   ]
  },
  {
   "cell_type": "code",
   "execution_count": null,
   "metadata": {},
   "outputs": [],
   "source": [
    "import os\n",
    "citizen_files = [os.path.join('/Users/e/Desktop/gale_meta_validation/txt', x) for x in citizen_files]"
   ]
  },
  {
   "cell_type": "markdown",
   "metadata": {},
   "source": [
    "Let's get the KWICs of citizen from these files."
   ]
  },
  {
   "cell_type": "code",
   "execution_count": null,
   "metadata": {},
   "outputs": [],
   "source": [
    "def get_locations(text, word):\n",
    "    position = 0\n",
    "    locs = []\n",
    "    # normalize words\n",
    "    text = text.lower()\n",
    "    word = word.lower()\n",
    "    while position != -1:\n",
    "        position = text.find(word, position + 1)\n",
    "        locs.append(position)\n",
    "    \n",
    "    return locs[:-1]"
   ]
  },
  {
   "cell_type": "code",
   "execution_count": null,
   "metadata": {},
   "outputs": [],
   "source": [
    "def kwic(locs, text, path, window = 200):\n",
    "    import os\n",
    "    import re\n",
    "    l = []\n",
    "    for loc in locs:\n",
    "        mn = 0\n",
    "        mx = len(text)\n",
    "        start = loc - window\n",
    "        stop = loc + window\n",
    "\n",
    "        if start < mn:\n",
    "            start = mn\n",
    "            stop = window\n",
    "        if stop > mx:\n",
    "            start = mx - window\n",
    "            stop = mx\n",
    "        \n",
    "        kwic = text[start:stop]\n",
    "        # strip all whitespace from kwic for output\n",
    "        kwic = re.sub('\\s+', ' ', kwic)\n",
    "        \n",
    "        # output result\n",
    "        d = {}\n",
    "        d['char_position'] = loc\n",
    "        d['kwic'] = kwic\n",
    "        d['filename'] = os.path.split(path)[-1]\n",
    "        l.append(d)\n",
    "    \n",
    "    return l"
   ]
  },
  {
   "cell_type": "code",
   "execution_count": null,
   "metadata": {},
   "outputs": [],
   "source": [
    "# if runtime is slow, multiprocess this\n",
    "word = 'citizen'\n",
    "output = []\n",
    "for file in citizen_files:\n",
    "    with open(file) as f:\n",
    "        text = f.read()\n",
    "        # create a dictionary containing the filename and character position of each instance\n",
    "        locs = get_locations(text, word)\n",
    "        d = kwic(locs, text, file)\n",
    "        output.extend(d)"
   ]
  },
  {
   "cell_type": "code",
   "execution_count": null,
   "metadata": {},
   "outputs": [],
   "source": [
    "result = pd.DataFrame(output)"
   ]
  },
  {
   "cell_type": "code",
   "execution_count": null,
   "metadata": {},
   "outputs": [],
   "source": [
    "result"
   ]
  },
  {
   "cell_type": "code",
   "execution_count": null,
   "metadata": {},
   "outputs": [],
   "source": [
    "result.shape"
   ]
  },
  {
   "cell_type": "markdown",
   "metadata": {},
   "source": [
    "Add metadata to result"
   ]
  },
  {
   "cell_type": "code",
   "execution_count": null,
   "metadata": {},
   "outputs": [],
   "source": [
    "citizens_meta = pd.merge(result, meta, on = 'filename')"
   ]
  },
  {
   "cell_type": "code",
   "execution_count": null,
   "metadata": {},
   "outputs": [],
   "source": [
    "citizens_meta.sort_values('year').to_csv('gale_citizen_kwic.csv')"
   ]
  },
  {
   "cell_type": "markdown",
   "metadata": {},
   "source": [
    "Are there particular authors who are overrepresented?\n",
    "\n",
    "Major authors include Twain, Cooper, Tourgee, Nathaniel Parker Willis, Irving, Bellamy, Harte, GW Cable, Garland, Lydia Maria Child... A lot of famous people.\n",
    "\n",
    "Knight, Adele Ferguson and Barr, Amelia E. possibly the highest number of instances for a female author."
   ]
  },
  {
   "cell_type": "code",
   "execution_count": null,
   "metadata": {},
   "outputs": [],
   "source": [
    "citizens_meta[['filename','author']].groupby('author').count().sort_values('filename', ascending = False).to_dict()"
   ]
  },
  {
   "cell_type": "markdown",
   "metadata": {},
   "source": [
    "# Citizen collocates"
   ]
  },
  {
   "cell_type": "code",
   "execution_count": null,
   "metadata": {},
   "outputs": [],
   "source": [
    "import nltk"
   ]
  },
  {
   "cell_type": "code",
   "execution_count": null,
   "metadata": {},
   "outputs": [],
   "source": [
    "stopwords = nltk.corpus.stopwords.words('english')"
   ]
  },
  {
   "cell_type": "code",
   "execution_count": null,
   "metadata": {},
   "outputs": [],
   "source": [
    "#!/usr/bin/env python\n",
    "# coding: utf-8\n",
    "\n",
    "# In[2]:\n",
    "\n",
    "\n",
    "import os\n",
    "import string\n",
    "import re\n",
    "import pandas as pd\n",
    "from collections import Counter\n",
    "\n",
    "\n",
    "\n",
    "\n",
    "# In[3]:\n",
    "\n",
    "\n",
    "def absolute_paths(directory, txt_only = True):\n",
    "    files = os.listdir(directory)\n",
    "    absolute_paths = []\n",
    "    \n",
    "    for file in files:\n",
    "        path = os.path.join(directory, file)\n",
    "        absolute_paths.append(path)\n",
    "    \n",
    "    if txt_only is True:\n",
    "        txts = []\n",
    "        for x in absolute_paths:\n",
    "            if str('.txt') in str(x):\n",
    "                txts.append(x)\n",
    "        return txts\n",
    "    \n",
    "    else:        \n",
    "        return absolute_paths\n",
    "\n",
    "\n",
    "# In[4]:\n",
    "\n",
    "\n",
    "def tokenize(text, keep_punct = False):\n",
    "    if keep_punct is True:\n",
    "        for punct in string.punctuation:\n",
    "            text = text.replace(punct, ' ' + punct + ' ')\n",
    "    else:\n",
    "        for punct in string.punctuation:\n",
    "            text = text.replace(punct, ' ')\n",
    "    \n",
    "    # this replaces *any* amount of whitespace with a single space using regular expressions\n",
    "    text = re.sub('\\s+', ' ', text.lower())\n",
    "    \n",
    "    result = []\n",
    "    \n",
    "    for x in text.split(' '):\n",
    "        if x.isalpha():\n",
    "            result.append(x)\n",
    "        else:\n",
    "            word = []\n",
    "            for y in x: # for every character\n",
    "                if y.isalpha() or y == '\\'':\n",
    "                    word.append(y)\n",
    "            if len(word) > 0:\n",
    "                result.append(''.join(word))\n",
    "                \n",
    "    return result\n",
    "\n",
    "\n",
    "def make_dtm(files, scaled = False, keep_top = None):\n",
    "    '''Makes a document-term matrix from a directory of .txt files.\n",
    "    `scaled` option scaled frequencies when set to True.\n",
    "    `drop_below` sets the rate of occurrence at which words will be dropped. Default is None. i.e. retain all words.'''\n",
    "#     files = absolute_paths(directory)\n",
    "    \n",
    "    result = [] # empty list where I will append the dictionaries of word counts\n",
    "    \n",
    "    for file in files: # looping over the results\n",
    "        text = open(file).read() # read in text file\n",
    "        tokens = tokenize(text) # make tokens list\n",
    "        d = dict(Counter(tokens)) # use count_words to create a dictionary\n",
    "        # os.path.split() returns the base path and the filename as a pair:\n",
    "        d['filepath'] = os.path.split(file)[-1] # include the _ before filename in case the text contains \"filename\"\n",
    "        result.append(d) # append the unscaled result\n",
    "    \n",
    "    \n",
    "    \n",
    "    df = pd.DataFrame(result).set_index('filepath').sort_index()\n",
    "    \n",
    "    if keep_top:\n",
    "        # this ensures we use raw counts for frequencies\n",
    "        top_words = sorted(list(df.sum().sort_values(ascending = False)[:keep_top].index))\n",
    "                           \n",
    "    if scaled is True:\n",
    "        rowsums = df.sum(axis = 'columns')\n",
    "        df = df.divide(rowsums, axis = 'rows')\n",
    "    \n",
    "    if keep_top:\n",
    "        df = df[top_words]\n",
    "    \n",
    "    return df"
   ]
  },
  {
   "cell_type": "code",
   "execution_count": null,
   "metadata": {},
   "outputs": [],
   "source": [
    "def get_collocates(filepath, target_word, horizon = 10):\n",
    "    text = open(filepath).read() # get text\n",
    "    tokens = tokenize(text) # get tokens\n",
    "    \n",
    "    indexes = []\n",
    "\n",
    "    for i, token in enumerate(tokens):\n",
    "        if token == target_word:\n",
    "            indexes.append(i) # get indexes\n",
    "    \n",
    "    collocates = []\n",
    "\n",
    "    for index in indexes:\n",
    "        colls = tokens[index-horizon:horizon+1]\n",
    "        # remove one instance of tt so it doesn't double-count itself\n",
    "        del colls[colls.find(target_word)]\n",
    "        collocates.extend(colls) # we use extend rather than append because we are adding additional elements *from* a list\n",
    "        \n",
    "    d = {}\n",
    "    # we want to make sure we get data about where our values are coming from. this tells us the file:\n",
    "    d['filepath'] = os.path.split(filepath)[-1] \n",
    "    d['target_word'] = target_word # this tells us our target\n",
    "    \n",
    "    for coll in collocates:\n",
    "        if coll not in d:\n",
    "            d[coll] = 1 # count up collocates\n",
    "        else:\n",
    "            d[coll] += 1\n",
    "    \n",
    "    return d"
   ]
  },
  {
   "cell_type": "code",
   "execution_count": null,
   "metadata": {},
   "outputs": [],
   "source": [
    "# this function depends upon a few of our old friends absolute_paths and tokenizer\n",
    "# txt_dir points to a directory where your text files are located, and stored in .txt format\n",
    "\n",
    "def corp_collocates(word, filepaths, horizon = 10, percentile = 0.8, drop_stopwords = True):\n",
    "#     # 1. generate a list of files\n",
    "#     filepaths = absolute_paths(txt_dir)\n",
    "    \n",
    "    # 2. make a list of dictionaries containing our data\n",
    "    output = []\n",
    "    \n",
    "#     # 2.5. make this multiprocessing\n",
    "#     from multiprocessing import Pool\n",
    "    \n",
    "#     # nested function for local scope\n",
    "#     def coll_run(x):\n",
    "#         return get_collocates(x, word, horizon)\n",
    "    \n",
    "#     with Pool() as p:\n",
    "#         collocates = p.map(coll_run, filepaths)\n",
    "#     for filepath in filepaths:\n",
    "#         collocates = get_collocates(filepath, word, horizon)\n",
    "#         output.append(collocates)\n",
    "\n",
    "\n",
    "    \n",
    "    import multiprocessing\n",
    "    from functools import partial\n",
    "    from contextlib import contextmanager\n",
    "\n",
    "    @contextmanager\n",
    "    def poolcontext(*args, **kwargs):\n",
    "        pool = multiprocessing.Pool(*args, **kwargs)\n",
    "        yield pool\n",
    "        pool.terminate()\n",
    "\n",
    "    with poolcontext() as pool:\n",
    "        output = pool.map(partial(get_collocates, target_word=word), filepaths)\n",
    "    \n",
    "    # 3. make a dataframe of our results\n",
    "    dtm = pd.DataFrame(output)\n",
    "    dtm = dtm.set_index(['filepath', 'target_word']).sort_index()\n",
    "    \n",
    "    # 4. optionally drop stopwords\n",
    "    keep = []\n",
    "    if drop_stopwords is True:\n",
    "        for x in dtm.columns:\n",
    "            if x not in stopwords:    \n",
    "                keep.append(x)\n",
    "    \n",
    "        dtm = dtm[keep]        \n",
    "        \n",
    "    # 5. sum dtm and cut to percentile\n",
    "    sums = dtm.sum()\n",
    "    pct_index = round(len(sums) * percentile)\n",
    "    top_words = sums.sort_values()[pct_index:].index # index returns the list of words\n",
    "    \n",
    "    # 6. scale results\n",
    "    dtm = dtm[top_words]\n",
    "    raw_values = make_dtm(filepaths)[top_words]\n",
    "    scaled_results = dtm.sum() / raw_values.sum()\n",
    "    \n",
    "    return scaled_results.sort_values(ascending = False)"
   ]
  },
  {
   "cell_type": "code",
   "execution_count": 178,
   "metadata": {},
   "outputs": [],
   "source": [
    "import os\n",
    "base = '/Users/e/Desktop/gale_meta_validation/txt'\n",
    "filepaths = [os.path.join(base, x) for x in citizens['_fn']]"
   ]
  },
  {
   "cell_type": "code",
   "execution_count": null,
   "metadata": {},
   "outputs": [],
   "source": [
    "import time\n",
    "start = time.time()\n",
    "output = corp_collocates('citizen', filepaths[:10])\n",
    "print(time.time()-start)"
   ]
  }
 ],
 "metadata": {
  "kernelspec": {
   "display_name": "Python 3",
   "language": "python",
   "name": "python3"
  },
  "language_info": {
   "codemirror_mode": {
    "name": "ipython",
    "version": 3
   },
   "file_extension": ".py",
   "mimetype": "text/x-python",
   "name": "python",
   "nbconvert_exporter": "python",
   "pygments_lexer": "ipython3",
   "version": "3.7.6"
  }
 },
 "nbformat": 4,
 "nbformat_minor": 4
}
